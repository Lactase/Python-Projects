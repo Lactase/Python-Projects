{
  "nbformat": 4,
  "nbformat_minor": 0,
  "metadata": {
    "colab": {
      "provenance": [],
      "authorship_tag": "ABX9TyNI87BYoiX+O9rAonNh3duH",
      "include_colab_link": true
    },
    "kernelspec": {
      "name": "python3",
      "display_name": "Python 3"
    },
    "language_info": {
      "name": "python"
    }
  },
  "cells": [
    {
      "cell_type": "markdown",
      "metadata": {
        "id": "view-in-github",
        "colab_type": "text"
      },
      "source": [
        "<a href=\"https://colab.research.google.com/github/Lactase/Python-Projects/blob/main/Spotify_Likeability.ipynb\" target=\"_parent\"><img src=\"https://colab.research.google.com/assets/colab-badge.svg\" alt=\"Open In Colab\"/></a>"
      ]
    },
    {
      "cell_type": "code",
      "execution_count": null,
      "metadata": {
        "id": "PaamI_tQb-fe"
      },
      "outputs": [],
      "source": [
        "import torch\n",
        "import random\n",
        "import requests\n",
        "import torch.nn as nn\n",
        "import torch.optim as optim\n",
        "import numpy as np\n",
        "from sklearn.model_selection import train_test_split\n",
        "from sklearn.preprocessing import StandardScaler\n",
        "import pandas as pd\n",
        "import json"
      ]
    },
    {
      "cell_type": "code",
      "source": [
        "# Import csv from exportify\n",
        "df = pd.read_csv('liked_songs.csv')\n",
        "\n",
        "# Removes the spotify:track part and leaves the track id\n",
        "df['Track ID'] = df['Track URI'].str.replace('spotify:track:', '', regex=False)\n",
        "\n",
        "# Can be changed according to music taste\n",
        "cond_tempo = df['Tempo'] > 110\n",
        "cond_dance = df['Danceability'] > 0.5\n",
        "cond_energy = df['Energy'] > 0.5\n",
        "cond_valence = df['Valence'] > 0.1\n",
        "cond_speech = df['Speechiness'] < 0.1\n",
        "cond_acoustic = df['Acousticness'] < 0.2\n",
        "cond_instrumental = df['Instrumentalness'] < 0.1\n",
        "cond_liveness = df['Liveness'] > 0.1\n",
        "\n",
        "# Create Liked column and true if all criteria are met\n",
        "df['Liked'] = cond_tempo & cond_dance & cond_energy & cond_valence & cond_speech & cond_acoustic & cond_instrumental & cond_liveness\n",
        "\n",
        "# Convert to int\n",
        "df['Liked'] = df['Liked'].astype(int)\n",
        "df['Liked'].sum()\n",
        "df"
      ],
      "metadata": {
        "id": "cndZ0YlWNn8C"
      },
      "execution_count": null,
      "outputs": []
    },
    {
      "cell_type": "code",
      "source": [
        "# number of songs in csv\n",
        "n_songs = len(df)\n",
        "\n",
        "seed = np.random.seed(4200)\n",
        "\n",
        "X_track_features = df[['Tempo', 'Danceability', 'Energy', 'Valence', 'Speechiness', 'Acousticness', 'Instrumentalness', 'Liveness']].values\n",
        "y_liked = df['Liked'].values\n",
        "\n",
        "# scales the data points to mean close to 0 and std of 1\n",
        "scaler = StandardScaler()\n",
        "X_scaled = scaler.fit_transform(X_track_features)\n",
        "\n",
        "# Turn scaled values into tensors\n",
        "X_tensor = torch.tensor(X_scaled, dtype=torch.float32)\n",
        "y_tensor = torch.tensor(y_liked, dtype=torch.float32).unsqueeze(1)\n",
        "\n",
        "\n",
        "# split data so you have data to train and test on (20% used to test and 80% in training)\n",
        "X_train, X_test, y_train, y_test = train_test_split(X_scaled, y_liked, test_size=0.2, random_state=seed)\n",
        "\n",
        "# Convert training/testing data to tensors\n",
        "X_train_tensor = torch.tensor(X_train, dtype=torch.float32)\n",
        "y_train_tensor = torch.tensor(y_train, dtype=torch.float32).unsqueeze(1)\n",
        "X_test_tensor = torch.tensor(X_test, dtype=torch.float32)\n",
        "y_test_tensor = torch.tensor(y_test, dtype=torch.float32).unsqueeze(1)"
      ],
      "metadata": {
        "id": "vl-YWtODP91s"
      },
      "execution_count": null,
      "outputs": []
    },
    {
      "cell_type": "code",
      "source": [
        "# Neural Network\n",
        "\n",
        "class MusicClassifier(nn.Module):\n",
        "  def __init__(self):\n",
        "    # inherits from nn.Module\n",
        "    super(MusicClassifier, self).__init__()\n",
        "\n",
        "    # layers\n",
        "    # connect layers 8 input 12 output to hidden layer\n",
        "    self.fc1 = nn.Linear(in_features = 8, out_features = 12)\n",
        "\n",
        "    # RELU\n",
        "    self.relu = nn.ReLU()\n",
        "\n",
        "    # connect layers 12 input from hidden layer to 1 output to output\n",
        "    self.fc2 = nn.Linear(in_features = 12, out_features = 1)\n",
        "\n",
        "    # Sigmoid\n",
        "    self.sigmoid = nn.Sigmoid()\n",
        "\n",
        "  def forward(self, x):\n",
        "    # x is the tensor for the song features\n",
        "    x = self.fc1(x)\n",
        "    x = self.relu(x)\n",
        "    x = self.fc2(x)\n",
        "    x = self.sigmoid(x)\n",
        "    return x\n",
        "\n",
        "model = MusicClassifier()\n",
        "# fc1 -> relu -> fc2 -> sigmoid"
      ],
      "metadata": {
        "id": "DGeVnnFhasv0"
      },
      "execution_count": null,
      "outputs": []
    },
    {
      "cell_type": "code",
      "source": [
        "# Loss function\n",
        "loss_func = nn.BCELoss()\n",
        "# optimizer with learning rate of 0.01 (model parameters is the weights and biases)\n",
        "optimizer = optim.Adam(model.parameters(), lr=0.01)\n",
        "# number of times model will train\n",
        "epochs = 100\n",
        "\n",
        "for epoch in range(epochs):\n",
        "  # start training\n",
        "  model.train()\n",
        "  # plugs training data into model\n",
        "  outputs = model(X_train_tensor)\n",
        "  # checks output and compare to training data and calculates loss\n",
        "  loss = loss_func(outputs,y_train_tensor)\n",
        "  # cleans the gradiant every run\n",
        "  optimizer.zero_grad()\n",
        "  # backpropagation\n",
        "  loss.backward()\n",
        "  # updates the weights and biases based on loss\n",
        "  optimizer.step()\n",
        "\n",
        "  # print epoch and loss every 100\n",
        "  if (epoch) % 10== 0:\n",
        "    print(f'Epoch: {epoch}, Loss: {loss.item()}')"
      ],
      "metadata": {
        "id": "2Fh5oCnzfwvJ"
      },
      "execution_count": null,
      "outputs": []
    },
    {
      "cell_type": "code",
      "source": [
        "# Evaluate the model\n",
        "model.eval()\n",
        "# Calculate accuracy with test data\n",
        "with torch.no_grad():\n",
        "    test_outputs = model(X_test_tensor)\n",
        "    test_loss = loss_func(test_outputs, y_test_tensor)\n",
        "    # predicted liked\n",
        "    predicted_liked = (test_outputs > 0.5).float()\n",
        "    # Since in tensor type need item to get value to use for accuracy\n",
        "    accuracy = (predicted_liked == y_test_tensor).sum().item() / y_test_tensor.size(0)\n",
        "\n",
        "print(f'Test Loss: {test_loss.item():.4f}')\n",
        "print(f'Test Accuracy: {accuracy:.4f}')"
      ],
      "metadata": {
        "id": "qwlG0hnWf3Wm"
      },
      "execution_count": null,
      "outputs": []
    },
    {
      "cell_type": "code",
      "source": [
        "# Test any songs\n",
        "spotify_song_link = 'https://open.spotify.com/track/406IpEtZPvbxApWTGM3twY'\n",
        "spotify_song_id = spotify_song_link.split('/')[-1]\n",
        "\n",
        "import requests\n",
        "\n",
        "url = \"https://api.reccobeats.com/v1/track?ids=\" + spotify_song_id\n",
        "\n",
        "payload = {}\n",
        "headers = {\n",
        "  'Accept': 'application/json'\n",
        "}\n",
        "\n",
        "response = requests.request(\"GET\", url, headers=headers, data=payload)\n",
        "\n",
        "print(response.text)\n",
        "reccobeats_song_id = response.json()['content'][0]['id']\n",
        "\n",
        "url = \"https://api.reccobeats.com/v1/track/\" + reccobeats_song_id + \"/audio-features\"\n",
        "\n",
        "response = requests.request(\"GET\", url, headers=headers, data=payload)\n",
        "print(response.text)\n",
        "try:\n",
        "  valence = response.json()['valence']\n",
        "  danceability = response.json()['danceability']\n",
        "  energy = response.json()['energy']\n",
        "  tempo = response.json()['tempo']\n",
        "  speechiness = response.json()['speechiness']\n",
        "  acousticness = response.json()['acousticness']\n",
        "  instrumentalness = response.json()['instrumentalness']\n",
        "  liveness = response.json()['liveness']\n",
        "\n",
        "  X_track_features = np.array([[tempo, danceability, energy, valence, speechiness, acousticness, instrumentalness, liveness]])\n",
        "\n",
        "  # scales the data points to mean close to 0 and std of 1\n",
        "  X_scaled = scaler.transform(X_track_features)\n",
        "\n",
        "  model_input = torch.tensor(X_scaled, dtype=torch.float32)\n",
        "  with torch.no_grad():\n",
        "    outputs = model(model_input)\n",
        "  probability = outputs.detach().numpy()\n",
        "  probability = np.round(probability.item(), 4)*100\n",
        "  print(f'The song is {probability}% likely to be liked')\n",
        "except:\n",
        "  print('No Audio Features found')\n",
        "\n"
      ],
      "metadata": {
        "colab": {
          "base_uri": "https://localhost:8080/"
        },
        "id": "UFiOzX5Pkc9g",
        "outputId": "4e5756e8-040b-4b34-b712-e5d76f4bca58"
      },
      "execution_count": null,
      "outputs": [
        {
          "output_type": "stream",
          "name": "stdout",
          "text": [
            "{\"content\":[{\"id\":\"fe75a3b3-d9eb-4c1c-bca8-52c28bf054b9\",\"trackTitle\":\"HOT\",\"artists\":[{\"id\":\"7e8edb62-c8fc-4931-8833-a28a6607e944\",\"name\":\"LE SSERAFIM\",\"href\":\"https://open.spotify.com/artist/4SpbR6yFEvexJuaBpgAU5p\"}],\"durationMs\":143797,\"isrc\":\"USA2P2506404\",\"ean\":null,\"upc\":null,\"href\":\"https://open.spotify.com/track/406IpEtZPvbxApWTGM3twY\",\"availableCountries\":\"AR,AU,AT,BE,BO,BR,BG,CA,CL,CO,CR,CY,CZ,DK,DO,DE,EC,EE,SV,FI,FR,GR,GT,HN,HK,HU,IS,IE,IT,LV,LT,LU,MY,MT,MX,NL,NZ,NI,NO,PA,PY,PE,PH,PL,PT,SG,SK,ES,SE,CH,TW,TR,UY,US,GB,AD,LI,MC,ID,JP,TH,VN,RO,IL,ZA,SA,AE,BH,QA,OM,KW,EG,MA,DZ,TN,LB,JO,PS,IN,BY,KZ,MD,UA,AL,BA,HR,ME,MK,RS,SI,KR,BD,PK,LK,GH,KE,NG,TZ,UG,AG,AM,BS,BB,BZ,BT,BW,BF,CV,CW,DM,FJ,GM,GE,GD,GW,GY,HT,JM,KI,LS,LR,MW,MV,ML,MH,FM,NA,NR,NE,PW,PG,PR,WS,SM,ST,SN,SC,SL,SB,KN,LC,VC,SR,TL,TO,TT,TV,VU,AZ,BN,BI,KH,CM,TD,KM,GQ,SZ,GA,GN,KG,LA,MO,MR,MN,NP,RW,TG,UZ,ZW,BJ,MG,MU,MZ,AO,CI,DJ,ZM,CD,CG,IQ,LY,TJ,VE,ET,XK\",\"popularity\":82}]}\n",
            "{\"id\":\"fe75a3b3-d9eb-4c1c-bca8-52c28bf054b9\",\"acousticness\":0.0883,\"danceability\":0.763,\"energy\":0.63,\"instrumentalness\":0.0,\"liveness\":0.42,\"loudness\":-3.406,\"speechiness\":0.0558,\"tempo\":127.957,\"valence\":0.968}\n",
            "The song is 99.64% likely to be liked\n"
          ]
        }
      ]
    },
    {
      "cell_type": "code",
      "source": [
        "# Test with another playlist\n",
        "df = pd.read_csv('friend_playlist.csv')\n",
        "# Removes the spotify:track part and leaves the track id\n",
        "df['Track ID'] = df['Track URI'].str.replace('spotify:track:', '', regex=False)\n",
        "df.head()\n",
        "\n",
        "X_track_features = df[['Tempo', 'Danceability', 'Energy', 'Valence', 'Speechiness', 'Acousticness', 'Instrumentalness', 'Liveness']].values\n",
        "\n",
        "# scales the data points to mean close to 0 and std of 1\n",
        "scaler = StandardScaler()\n",
        "X_scaled = scaler.fit_transform(X_track_features)\n",
        "\n",
        "# Turn scaled values into tensors\n",
        "X_tensor = torch.tensor(X_scaled, dtype=torch.float32)\n",
        "with torch.no_grad():\n",
        "  outputs = model(X_tensor)\n",
        "predicted_liked = (outputs > 0.5).float()\n",
        "probability = outputs.detach().numpy()\n",
        "df['Liked'] = predicted_liked.numpy()\n",
        "df['Probability'] = np.round(probability, 4)\n",
        "liked_songs = df[df['Liked'] == 1]\n",
        "df_sorted_desc = liked_songs.sort_values(by='Probability', ascending=False)\n",
        "df_sorted_desc\n"
      ],
      "metadata": {
        "id": "wPhgKP-TwarU"
      },
      "execution_count": null,
      "outputs": []
    }
  ]
}